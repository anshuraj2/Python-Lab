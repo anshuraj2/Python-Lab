{
 "cells": [
  {
   "cell_type": "code",
   "execution_count": 24,
   "id": "b1435507",
   "metadata": {},
   "outputs": [
    {
     "name": "stdout",
     "output_type": "stream",
     "text": [
      "Enter no. of elements in list : 5\n",
      "Enter value in the list : 1\n",
      "Enter value in the list : 2\n",
      "Enter value in the list : 3\n",
      "Enter value in the list : 4\n",
      "Enter value in the list : 5\n",
      " \n",
      "List =  [1, 2, 3, 4, 5]\n",
      " \n",
      "Reverse of given list is :  [5, 4, 3, 2, 1]\n",
      " \n",
      "Sorted list is :  [1, 2, 3, 4, 5]\n",
      " \n",
      "Maximum element =  5\n",
      " \n",
      "Minimum Element =  1\n"
     ]
    }
   ],
   "source": [
    "l = []\n",
    "n = int(input(\"Enter no. of elements in list : \"))\n",
    "for i in range(0,n) :\n",
    "    value = eval(input(\"Enter value in the list : \"))\n",
    "    l.append(value)\n",
    "#Traversing\n",
    "print(\" \")\n",
    "print(\"List = \",l)\n",
    "\n",
    "\n",
    "# Reversing\n",
    "l = l[::-1]\n",
    "print(\" \")\n",
    "print(\"Reverse of given list is : \",l)\n",
    "\n",
    "\n",
    "# Bubble Sorting\n",
    "for i in range(0,n-1) :\n",
    "    for j in range(0,n-1) :\n",
    "        if(l[j]>l[j+1]) :\n",
    "            temp = l[j]\n",
    "            l[j] = l[j+1]\n",
    "            l[j+1] = temp\n",
    "print(\" \")\n",
    "print(\"Sorted list is : \",l)\n",
    "print(\" \")\n",
    "\n",
    "\n",
    "# Maximum element\n",
    "max = -1\n",
    "for i in range(n):\n",
    "    if(max < l[i]) :\n",
    "        max = l[i]\n",
    "print(\"Maximum element = \",max)\n",
    "print(\" \")\n",
    "\n",
    "\n",
    "# Minimum element\n",
    "min = 99999999\n",
    "for i in range(n):\n",
    "    if(min > l[i]) :\n",
    "        min = l[i]\n",
    "print(\"Minimum Element = \",min)\n",
    "\n",
    "# Remove duplicates\n",
    "# for i in range(n):\n",
    "  #  for j in range(i,n):\n",
    "     #   if(l[i]==l[j])\n",
    "            "
   ]
  },
  {
   "cell_type": "code",
   "execution_count": null,
   "id": "f4fdf96d",
   "metadata": {},
   "outputs": [],
   "source": []
  }
 ],
 "metadata": {
  "kernelspec": {
   "display_name": "Python 3 (ipykernel)",
   "language": "python",
   "name": "python3"
  },
  "language_info": {
   "codemirror_mode": {
    "name": "ipython",
    "version": 3
   },
   "file_extension": ".py",
   "mimetype": "text/x-python",
   "name": "python",
   "nbconvert_exporter": "python",
   "pygments_lexer": "ipython3",
   "version": "3.11.4"
  }
 },
 "nbformat": 4,
 "nbformat_minor": 5
}
