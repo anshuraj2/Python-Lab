{
 "cells": [
  {
   "cell_type": "code",
   "execution_count": 2,
   "id": "68bac97b",
   "metadata": {},
   "outputs": [
    {
     "name": "stdout",
     "output_type": "stream",
     "text": [
      "Enter no. of element in list 1 : 4\n",
      "Enter elements : \n",
      "2\n",
      "1\n",
      "0\n",
      "4\n",
      "Enter no. of element in list 2 : 5\n",
      "Enter elements : \n",
      "3\n",
      "9\n",
      "8\n",
      "12\n",
      "11\n",
      "First List :  [2, 1, 0, 4]\n",
      "Second List :  [3, 9, 8, 12, 11]\n",
      "\n",
      "Addition of both lists :  [2, 1, 0, 4, 3, 9, 8, 12, 11]\n",
      "\n",
      "Sorted list :  [0, 1, 2, 3, 4, 8, 9, 11, 12]\n"
     ]
    }
   ],
   "source": [
    "l1 = []\n",
    "l2 = []\n",
    "n1 = int(input(\"Enter no. of element in list 1 : \"))\n",
    "print(\"Enter elements : \")\n",
    "for i in range (n1):\n",
    "    value = eval(input(\"\"))\n",
    "    l1.append(value)\n",
    "n2 = int(input(\"Enter no. of element in list 2 : \"))\n",
    "print(\"Enter elements : \")\n",
    "for i in range (n2):\n",
    "    value = eval(input(\"\"))\n",
    "    l2.append(value)\n",
    "print(\"First List : \",l1)\n",
    "print(\"Second List : \",l2)\n",
    "l = l1 + l2\n",
    "print(\"\\nAddition of both lists : \",l)\n",
    "n = len(l)\n",
    "\n",
    "for i in range (n-1):\n",
    "    for j in range (n-1):\n",
    "        if(l[j]>l[j+1]):\n",
    "            temp = l[j]\n",
    "            l[j] = l[j+1]\n",
    "            l[j+1] = temp\n",
    "print(\"\\nSorted list : \",l)\n",
    "    \n",
    "\n",
    "    "
   ]
  },
  {
   "cell_type": "code",
   "execution_count": null,
   "id": "4e6abba3",
   "metadata": {},
   "outputs": [],
   "source": []
  }
 ],
 "metadata": {
  "kernelspec": {
   "display_name": "Python 3 (ipykernel)",
   "language": "python",
   "name": "python3"
  },
  "language_info": {
   "codemirror_mode": {
    "name": "ipython",
    "version": 3
   },
   "file_extension": ".py",
   "mimetype": "text/x-python",
   "name": "python",
   "nbconvert_exporter": "python",
   "pygments_lexer": "ipython3",
   "version": "3.11.4"
  }
 },
 "nbformat": 4,
 "nbformat_minor": 5
}
